{
 "cells": [
  {
   "cell_type": "code",
   "execution_count": 1,
   "id": "8296b29f",
   "metadata": {},
   "outputs": [
    {
     "name": "stdout",
     "output_type": "stream",
     "text": [
      "Masukkan kata pertama: kasur\n",
      "Masukkan kata kedua: rusak\n",
      "'kasur' dan 'rusak' adalah anagram.\n"
     ]
    }
   ],
   "source": [
    "import re\n",
    "\n",
    "def cek_anagram(kata_pertama, kata_kedua):\n",
    "    kata_pertama = re.sub(r'[^a-zA-Z]', '', kata_pertama).lower()\n",
    "    kata_kedua = re.sub(r'[^a-zA-Z]', '', kata_kedua).lower()\n",
    "    return sorted(kata_pertama) == sorted(kata_kedua)\n",
    "\n",
    "kata_1 = input(\"Masukkan kata pertama: \")\n",
    "kata_2 = input(\"Masukkan kata kedua: \")\n",
    "\n",
    "if cek_anagram(kata_1, kata_2):\n",
    "    print(f\"'{kata_1}' dan '{kata_2}' adalah anagram.\")\n",
    "else:\n",
    "    print(f\"'{kata_1}' dan '{kata_2}' bukan anagram.\")\n",
    "\n"
   ]
  },
  {
   "cell_type": "code",
   "execution_count": 2,
   "id": "375ddd01",
   "metadata": {},
   "outputs": [
    {
     "name": "stdout",
     "output_type": "stream",
     "text": [
      "Masukan kalimat yang diinginkan: Saya mau makan. Makan itu wajib. Mau siang atau malam saya wajib makan\n",
      "Masukkan kata yang ingin dihitung: makan\n",
      "'makan' ada 3 buah.\n"
     ]
    }
   ],
   "source": [
    "import re\n",
    "\n",
    "def hitung_kata(teks, kata_dicari):\n",
    "    teks = re.sub(r'[^\\w\\s]', '', teks).lower()\n",
    "    kata_dicari = kata_dicari.lower()\n",
    "    daftar_kata = teks.split()\n",
    "    jumlah = daftar_kata.count(kata_dicari)\n",
    "    return jumlah\n",
    "\n",
    "kalimat = input(\"Masukan kalimat yang diinginkan: \")\n",
    "kata = input(\"Masukkan kata yang ingin dihitung: \")\n",
    "\n",
    "frekuensi = hitung_kata(kalimat, kata)\n",
    "print(f\"'{kata}' ada {frekuensi} buah.\")\n"
   ]
  },
  {
   "cell_type": "code",
   "execution_count": 3,
   "id": "20189b08",
   "metadata": {},
   "outputs": [
    {
     "name": "stdout",
     "output_type": "stream",
     "text": [
      "masukan kalimat yang ingin dihapus spasi yang berlebih: freire     hanan            putra\n",
      "Hasil: 'freire hanan putra'\n"
     ]
    }
   ],
   "source": [
    "import re\n",
    "\n",
    "def hapus_spasi_berlebih(teks):\n",
    "    teks = re.sub(r'\\s+', ' ', teks)\n",
    "    teks = teks.strip()\n",
    "    return teks\n",
    "\n",
    "kalimat = input(\"masukan kalimat yang ingin dihapus spasi yang berlebih: \")\n",
    "hasil = hapus_spasi_berlebih(kalimat)\n",
    "print(f\"Hasil: '{hasil}'\")\n"
   ]
  },
  {
   "cell_type": "code",
   "execution_count": 4,
   "id": "d4ef4328",
   "metadata": {},
   "outputs": [
    {
     "name": "stdout",
     "output_type": "stream",
     "text": [
      "Masukan kalimat yang ingin anda cek: red snakes and a black frog in the pool\"\n",
      "Terpendek: a\n",
      "Terpanjang: snakes\n"
     ]
    }
   ],
   "source": [
    "import re\n",
    "\n",
    "def cari_kata_terpendek_terpanjang(kalimat):\n",
    "    kata_kata = re.findall(r'\\b\\w+\\b', kalimat)\n",
    "\n",
    "    if not kata_kata:\n",
    "        return None, None  # Tidak ada kata ditemukan\n",
    "    kata_pendek = kata_panjang = kata_kata[0]\n",
    "\n",
    "    for kata in kata_kata:\n",
    "        if len(kata) < len(kata_pendek):\n",
    "            kata_pendek = kata\n",
    "        if len(kata) > len(kata_panjang):\n",
    "            kata_panjang = kata\n",
    "\n",
    "    return kata_pendek, kata_panjang\n",
    "\n",
    "kalimat = input(\"Masukan kalimat yang ingin anda cek: \") #\"red snakes and a black frog in the pool\"\n",
    "terpendek, terpanjang = cari_kata_terpendek_terpanjang(kalimat)\n",
    "\n",
    "print(f\"Terpendek: {terpendek}\")\n",
    "print(f\"Terpanjang: {terpanjang}\")\n"
   ]
  },
  {
   "cell_type": "code",
   "execution_count": 5,
   "id": "fd1514f9",
   "metadata": {},
   "outputs": [
    {
     "name": "stdout",
     "output_type": "stream",
     "text": [
      "1945-08-17 00:00:00 selisih 29108 hari\n",
      "1785-11-11 00:00:00 selisih 87460 hari\n",
      "1783-06-08 00:00:00 selisih 88347 hari\n",
      "1889-05-02 00:00:00 selisih 49668 hari\n"
     ]
    }
   ],
   "source": [
    "import re\n",
    "from datetime import datetime\n",
    "\n",
    "def cari_dan_hitungan_selisih(teks):\n",
    "    list_tanggal = re.findall(r'\\b\\d{4}-\\d{2}-\\d{2}\\b', teks)\n",
    "    sekarang = datetime.now()\n",
    "\n",
    "    for tgl_str in list_tanggal:\n",
    "        tgl_obj = datetime.strptime(tgl_str, \"%Y-%m-%d\")\n",
    "        selisih = (sekarang - tgl_obj).days\n",
    "        print(f\"{tgl_obj} selisih {selisih} hari\")\n",
    "\n",
    "teks = \"\"\"\n",
    "Pada tanggal 1945-08-17 Indonesia merdeka. Indonesia memiliki beberapa pahlawan\n",
    "nasional, seperti Pangeran Diponegoro (TL: 1785-11-11), Pattimura (TL: 1783-06-08) dan Ki\n",
    "Hajar Dewantara (1889-05-02).\n",
    "\"\"\"\n",
    "\n",
    "cari_dan_hitungan_selisih(teks)\n"
   ]
  },
  {
   "cell_type": "code",
   "execution_count": 6,
   "id": "d365a479",
   "metadata": {},
   "outputs": [
    {
     "name": "stdout",
     "output_type": "stream",
     "text": [
      "anton@mail.com username: anton , password: sItKYER7\n",
      "budi@gmail.co.id username: budi , password: nKK12mLU\n",
      "slamet@getnada.com username: slamet , password: BIpWm4pX\n",
      "matahari@tokopedia.com username: matahari , password: tnJPn1QY\n"
     ]
    }
   ],
   "source": [
    "import re\n",
    "import random\n",
    "import string\n",
    "\n",
    "def generate_random_password(length=8):\n",
    "    karakter = string.ascii_letters + string.digits\n",
    "    return ''.join(random.choice(karakter) for _ in range(length))\n",
    "\n",
    "def process_emails(teks):\n",
    "    polaEmail = r\"([a-zA-Z0-9._%+-]+@[a-zA-Z0-9.-]+\\.[a-zA-Z]{2,})\"\n",
    "    emails = re.findall(polaEmail, teks)\n",
    "    hasil = []\n",
    "    for email in emails:\n",
    "        username = email.split('@')[0]\n",
    "        password = generate_random_password()\n",
    "        hasil.append(f\"{email} username: {username} , password: {password}\")\n",
    "    return \"\\n\".join(hasil)\n",
    "\n",
    "teks = \"\"\"\n",
    "Berikut adalah daftar email dan nama pengguna dari mailing list:\n",
    "anton@mail.com dimiliki oleh antonius\n",
    "budi@gmail.co.id dimiliki oleh budi anwari\n",
    "slamet@getnada.com dimiliki oleh slamet slumut\n",
    "matahari@tokopedia.com dimiliki oleh toko matahari\n",
    "\"\"\"\n",
    "\n",
    "output = process_emails(teks)\n",
    "print(output)"
   ]
  },
  {
   "cell_type": "code",
   "execution_count": null,
   "id": "f304211a",
   "metadata": {},
   "outputs": [],
   "source": []
  }
 ],
 "metadata": {
  "kernelspec": {
   "display_name": "Python 3 (ipykernel)",
   "language": "python",
   "name": "python3"
  },
  "language_info": {
   "codemirror_mode": {
    "name": "ipython",
    "version": 3
   },
   "file_extension": ".py",
   "mimetype": "text/x-python",
   "name": "python",
   "nbconvert_exporter": "python",
   "pygments_lexer": "ipython3",
   "version": "3.11.5"
  }
 },
 "nbformat": 4,
 "nbformat_minor": 5
}
